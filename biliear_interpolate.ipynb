{
  "nbformat": 4,
  "nbformat_minor": 0,
  "metadata": {
    "colab": {
      "provenance": []
    },
    "kernelspec": {
      "name": "python3",
      "display_name": "Python 3"
    },
    "language_info": {
      "name": "python"
    }
  },
  "cells": [
    {
      "cell_type": "markdown",
      "source": [
        "# biliear_interpolate"
      ],
      "metadata": {
        "id": "Y735TSmmAczC"
      }
    },
    {
      "cell_type": "code",
      "execution_count": 22,
      "metadata": {
        "id": "tQpCamL56EqC"
      },
      "outputs": [],
      "source": [
        "from pylab import *\n",
        "from PIL import Image"
      ]
    },
    {
      "cell_type": "code",
      "source": [
        "im = array(Image.open(\"ai image with noisy.jpg\").convert(\"L\"))"
      ],
      "metadata": {
        "id": "mNhuCSq76jZY"
      },
      "execution_count": 23,
      "outputs": []
    },
    {
      "cell_type": "code",
      "source": [
        "print(\"Goruntulun dizi boyutu =\", im.shape)"
      ],
      "metadata": {
        "colab": {
          "base_uri": "https://localhost:8080/"
        },
        "id": "lDjh9RcM7fee",
        "outputId": "9b5df167-ff8a-453a-d204-140b4f6e4087"
      },
      "execution_count": 24,
      "outputs": [
        {
          "output_type": "stream",
          "name": "stdout",
          "text": [
            "Goruntulun dizi boyutu = (1024, 1024)\n"
          ]
        }
      ]
    },
    {
      "cell_type": "code",
      "source": [
        "goruntu = Image.open(\"ai image with noisy.jpg\")\n",
        "goruntu.show()\n",
        "cozunurluk = goruntu.info['jfif_density']\n",
        "print(\"cozunurluk =\", cozunurluk)"
      ],
      "metadata": {
        "colab": {
          "base_uri": "https://localhost:8080/"
        },
        "id": "k301zNZV7txL",
        "outputId": "487c4529-a319-4749-86b1-26c28fa56248"
      },
      "execution_count": 25,
      "outputs": [
        {
          "output_type": "stream",
          "name": "stdout",
          "text": [
            "cozunurluk = (72, 72)\n"
          ]
        }
      ]
    },
    {
      "cell_type": "code",
      "source": [
        "import numpy as np"
      ],
      "metadata": {
        "id": "72N2RKkH8HkX"
      },
      "execution_count": 26,
      "outputs": []
    },
    {
      "cell_type": "code",
      "source": [
        "dizi= np.random.randint(0,255,(50,50))"
      ],
      "metadata": {
        "id": "T0EVaPUB9qEs"
      },
      "execution_count": 27,
      "outputs": []
    },
    {
      "cell_type": "code",
      "source": [
        "def biliear_interpolate(im, x,y):\n",
        "  x= np.asarray(x)\n",
        "  y= np.asarray(y)\n",
        "\n",
        "  x0= np.floor(x).astype(int)\n",
        "  y0= np.floor(y).astype(int)\n",
        "  x1= x0 + 1\n",
        "  y1= y0 + 1\n",
        "\n",
        "  x0= np.clip(x0,0,im.shape[1]-1)\n",
        "  x1= np.clip(x1,0,im.shape[1]-1)\n",
        "  y0= np.clip(y0,0,im.shape[0]-1)\n",
        "  y1= np.clip(y1,0,im.shape[0]-1)\n",
        "  print(x0,x1,y0,y1)\n",
        "\n",
        "  Ia= im[y0,x0]\n",
        "  Ib= im[y1,x0]\n",
        "  Ic= im[y0,x1]\n",
        "  Id= im[y1,x1]\n",
        "\n",
        "  print(Ia,Ib,Ic,Id)\n",
        "\n",
        "  wa= (x1-x) * (y1-y)\n",
        "  wb= (x1-x) * (y-y0)\n",
        "  wc= (x-x0) * (y1-y)\n",
        "  wd= (x-x0) * (y-y0)\n",
        "  print(wa,wb,wc,wd)\n",
        "\n",
        "  return wa*Ia + wb*Ib + wc*Ic + wd*Id"
      ],
      "metadata": {
        "id": "tZsiQY5199zl"
      },
      "execution_count": 28,
      "outputs": []
    },
    {
      "cell_type": "code",
      "source": [
        "a=biliear_interpolate(dizi,5.5,4.2)\n",
        "print(\"hesaplanan yeni piksel degeri=\",a)"
      ],
      "metadata": {
        "colab": {
          "base_uri": "https://localhost:8080/"
        },
        "id": "A9JZO9yo_gwp",
        "outputId": "3672c233-9f13-448f-885e-f5e7591bcb8f"
      },
      "execution_count": 29,
      "outputs": [
        {
          "output_type": "stream",
          "name": "stdout",
          "text": [
            "5 6 4 5\n",
            "118 148 201 210\n",
            "0.3999999999999999 0.10000000000000009 0.3999999999999999 0.10000000000000009\n",
            "hesaplanan yeni piksel degeri= 163.4\n"
          ]
        }
      ]
    }
  ]
}